{
 "cells": [
  {
   "cell_type": "markdown",
   "metadata": {},
   "source": [
    "# **Generatore di istanze**"
   ]
  },
  {
   "cell_type": "code",
   "execution_count": 1,
   "metadata": {},
   "outputs": [],
   "source": [
    "import string\n",
    "from math import ceil\n",
    "import random"
   ]
  },
  {
   "cell_type": "markdown",
   "metadata": {},
   "source": [
    "## Vincoli di orario"
   ]
  },
  {
   "cell_type": "code",
   "execution_count": 2,
   "metadata": {},
   "outputs": [],
   "source": [
    "#orario\n",
    "Days = 6\n",
    "HoursXDay = 5\n",
    "SubjectMaxHoursXDay = 2\n",
    "ProfMaxWeeklyHours = 18"
   ]
  },
  {
   "cell_type": "markdown",
   "metadata": {},
   "source": [
    "## Ore per materia"
   ]
  },
  {
   "cell_type": "code",
   "execution_count": 3,
   "metadata": {},
   "outputs": [],
   "source": [
    "#materie\n",
    "materie = {\n",
    "'scienze' : 3,\n",
    "'matematica' : 4,\n",
    "'italiano' : 7,\n",
    "'latino' : 3,\n",
    "'filosofia' : 3,\n",
    "'storia' : 2,\n",
    "'inglese' : 3,\n",
    "'storia_arte' : 2,\n",
    "'educazione_fisica' : 2,\n",
    "'religione' : 1\n",
    "}"
   ]
  },
  {
   "cell_type": "markdown",
   "metadata": {},
   "source": [
    "## Generazione classi\n",
    "\n",
    "INPUT: `N_classi_x_sezione` ,   `N_sezioni`"
   ]
  },
  {
   "cell_type": "code",
   "execution_count": 4,
   "metadata": {},
   "outputs": [],
   "source": [
    "#classi\n",
    "N_classi_x_sezione = 5\n",
    "N_sezioni = 10\n",
    "\n",
    "Tot_classi = N_classi_x_sezione * N_sezioni\n",
    "\n",
    "#genera classi\n",
    "classi = []\n",
    "\n",
    "for s in range (0, N_sezioni):\n",
    "    for c in range(1, N_classi_x_sezione+1):\n",
    "        classi.append(str(c) + list(string.ascii_uppercase)[s])\n",
    "\n",
    "#print(classi)"
   ]
  },
  {
   "cell_type": "markdown",
   "metadata": {},
   "source": [
    "## Generazione professori"
   ]
  },
  {
   "cell_type": "markdown",
   "metadata": {},
   "source": [
    "*liste di appoggio*"
   ]
  },
  {
   "cell_type": "code",
   "execution_count": 5,
   "metadata": {},
   "outputs": [],
   "source": [
    "Nomi = [ 'Sofia', 'Aurora', 'Giulia', 'Ginevra', 'Vittoria', 'Beatrice', 'Alice', 'Ludovica', 'Emma', 'Matilde',\n",
    "        'Leonardo', 'Francesco', 'Tommaso', 'Edoardo', 'Alessandro', 'Lorenzo', 'Mattia', 'Gabriele', 'Riccardo', 'Andrea' ]\n",
    "\n",
    "Cognomi = [ 'Rossi', 'Ferrari', 'Bianchi', 'Romano', 'Gallo', 'Costa', 'Fontana', 'Conti', 'Ricci', 'Bruno',\n",
    "           'Moretti', 'Marino', 'Greco', 'Barbieri', 'Lombardi', 'Giordano', 'Colombo', 'Mancini', 'Longo', 'Martinelli' ]\n",
    "\n",
    "Giorni = [ 'lun', 'mar', 'mer', 'gio', 'ven', 'sab' ]"
   ]
  },
  {
   "cell_type": "markdown",
   "metadata": {},
   "source": [
    "INPUT: `N_professori` divisi per materia"
   ]
  },
  {
   "cell_type": "code",
   "execution_count": 6,
   "metadata": {},
   "outputs": [],
   "source": [
    "#professori\n",
    "N_professori = {\n",
    "'scienze' : 7,\n",
    "'matematica' : 10,\n",
    "'italiano' : 12,\n",
    "'latino' : 6,\n",
    "'filosofia' : 6,\n",
    "'storia' : 6,\n",
    "'inglese' : 7,\n",
    "'storia_arte' : 5,\n",
    "'educazione_fisica' : 5,\n",
    "'religione' : 5\n",
    "}\n",
    "\n",
    "Profs = {}\n",
    "tmp = []\n",
    "Tot_Profs = 0\n",
    "\n",
    "#genera professori\n",
    "for s in N_professori.keys():\n",
    "    if (N_professori[s] < ceil(materie[s]*Tot_classi/(Days*HoursXDay))):    #se numero prof inferiore al minimo (agenda prof interamente piena)\n",
    "        N_professori[s] = ceil(materie[s]*Tot_classi/(Days*HoursXDay))\n",
    "\n",
    "#print(N_professori)\n",
    "        \n",
    "for s in N_professori.keys():\n",
    "    Tot_Profs += N_professori[s]\n",
    "\n",
    "for i in range(0,Tot_Profs):\n",
    "    n_c = Nomi[random.randint(0,len(Nomi)-1)] + '_' + Cognomi[random.randint(0,len(Cognomi)-1)]\n",
    "    while n_c in tmp:\n",
    "        n_c = Nomi[random.randint(0,len(Nomi)-1)] + '_' + Cognomi[random.randint(0,len(Cognomi)-1)]\n",
    "    tmp.append(n_c)\n",
    "\n",
    "for s in N_professori.keys():\n",
    "    tmp2 = []\n",
    "    for n in range(0,N_professori[s]):\n",
    "        tmp2.append(tmp[0] + ' ' + s + ' ' + Giorni[random.randint(0,Days-1)])\n",
    "        tmp.pop(0)\n",
    "    Profs[s] = tmp2\n",
    "\n",
    "#print(Profs)"
   ]
  },
  {
   "cell_type": "markdown",
   "metadata": {},
   "source": [
    "## Costi"
   ]
  },
  {
   "cell_type": "code",
   "execution_count": 7,
   "metadata": {},
   "outputs": [],
   "source": [
    "#costi\n",
    "UnavailabilityViolation = 10\n",
    "MaxSubjectHoursXDayViolation = 5\n",
    "MaxProfWeeklyHoursViolation = 15\n",
    "ScheduleContiguityViolation = 5"
   ]
  },
  {
   "cell_type": "markdown",
   "metadata": {},
   "source": [
    "## Generazione istanza .txt"
   ]
  },
  {
   "cell_type": "code",
   "execution_count": 8,
   "metadata": {},
   "outputs": [],
   "source": [
    "#.txt generation\n",
    "\n",
    "with open('new_instance.txt', \"w\") as f:\n",
    "\n",
    "#orario\n",
    "    f.write(\"$orario\\n\")\n",
    "    f.write(f'Days {Days}\\n')\n",
    "    f.write(f'HoursXDay {HoursXDay}\\n')\n",
    "    f.write(f'SubjectMaxHoursXDay {SubjectMaxHoursXDay}\\n')\n",
    "    f.write(f'ProfMaxWeeklyHours {ProfMaxWeeklyHours}\\n')\n",
    "    f.write('\\n')\n",
    "\n",
    "#materie\n",
    "    f.write(\"$materie\\n\")\n",
    "    for s in materie.keys():\n",
    "        f.write(s + f' {materie[s]}\\n')\n",
    "    f.write('\\n')\n",
    "\n",
    "#professori\n",
    "    f.write(\"$professori\\n\")\n",
    "    for s in Profs.keys():\n",
    "        for p in Profs[s]:\n",
    "            f.write(p+'\\n')\n",
    "    f.write('\\n')\n",
    "\n",
    "#classi\n",
    "    f.write(\"$classi\\n\")\n",
    "    for c in classi:\n",
    "        f.write(c+'\\n')\n",
    "    f.write('\\n')\n",
    "\n",
    "#costi\n",
    "    f.write(\"$costi\\n\")\n",
    "    f.write(f'UnavailabilityViolation {UnavailabilityViolation}\\n')\n",
    "    f.write(f'MaxSubjectHoursXDayViolation {MaxSubjectHoursXDayViolation}\\n')\n",
    "    f.write(f'MaxProfWeeklyHoursViolation {MaxProfWeeklyHoursViolation}\\n')\n",
    "    f.write(f'ScheduleContiguityViolation {ScheduleContiguityViolation}\\n')\n",
    "\n",
    "f.close()"
   ]
  }
 ],
 "metadata": {
  "kernelspec": {
   "display_name": "Python 3",
   "language": "python",
   "name": "python3"
  },
  "language_info": {
   "codemirror_mode": {
    "name": "ipython",
    "version": 3
   },
   "file_extension": ".py",
   "mimetype": "text/x-python",
   "name": "python",
   "nbconvert_exporter": "python",
   "pygments_lexer": "ipython3",
   "version": "3.10.12"
  }
 },
 "nbformat": 4,
 "nbformat_minor": 2
}
